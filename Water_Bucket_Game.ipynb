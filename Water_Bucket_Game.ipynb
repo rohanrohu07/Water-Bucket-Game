{
  "nbformat": 4,
  "nbformat_minor": 0,
  "metadata": {
    "colab": {
      "provenance": []
    },
    "kernelspec": {
      "name": "python3",
      "display_name": "Python 3"
    },
    "language_info": {
      "name": "python"
    }
  },
  "cells": [
    {
      "cell_type": "code",
      "source": [
        "#Water Bucket Game\n",
        "\n",
        "bucket_1 = 0\n",
        "bucket_2 = 0\n",
        "while True:\n",
        "  print('''\\n*******Welcome to the Water Bucket Game*******\n",
        "\n",
        "               1.Play Game\n",
        "               2.Quit''')\n",
        "  choice = input('\\nEnter Your Choice : ')\n",
        "  if choice == '1':\n",
        "    while True:\n",
        "        print('''\\n----The Game is to Fill The Bucket With Exactly 4 liters of water----\n",
        "----Using Only the Actions Provided By the Game----''')\n",
        "        print(f'\\nCurrent Capacity Of Bucket 1 : {bucket_1}')\n",
        "        print(f'Current Capacity Of Bucket 2 : {bucket_2}')\n",
        "        print('\\nChoose One Below Options at One Time')\n",
        "        print('\\n1. Fill Bucket 1 (Capacity 5 Litre)')\n",
        "        print('2. Fill Bucket 2 (Capacity 3 Litre)')\n",
        "        print('3. Empty Bucket 1')\n",
        "        print('4. Empty Bucket 2')\n",
        "        print('5. Transfer Water From Bucket 1 to 2')\n",
        "        print('6. Transfer Water From Bucket 2 to 1')\n",
        "        print('7. Quit')\n",
        "        choice = input(\"\\nEnter Your Choice From 1 to 7 :\" )\n",
        "        if choice == '1':\n",
        "          bucket_1 = 5\n",
        "\n",
        "        elif choice == '2':\n",
        "          bucket_2 = 3\n",
        "\n",
        "        elif choice == '3':\n",
        "          bucket_1 = 0\n",
        "\n",
        "        elif choice == '4':\n",
        "          bucket_2 = 0\n",
        "\n",
        "        elif choice == '5':\n",
        "          if bucket_1 == 0:\n",
        "            print('Bucket 1 is Empty!!')\n",
        "            continue\n",
        "\n",
        "          elif bucket_1 + bucket_2 > 3:\n",
        "            bucket_1 -= 3 - bucket_2\n",
        "            bucket_2 = 3\n",
        "          else:\n",
        "            bucket_2 += bucket_1\n",
        "            bucket_1 = 0\n",
        "            \n",
        "        elif choice == '6':\n",
        "          if bucket_2 == 0:\n",
        "            print('Bucket 2 is Empty!!')\n",
        "            continue\n",
        "          elif bucket_2 + bucket_1 > 5:\n",
        "            bucket_2 -= 5 - bucket_1\n",
        "            bucket_1 = 5\n",
        "          else:\n",
        "            bucket_1 += bucket_2\n",
        "            bucket_2 = 0\n",
        "\n",
        "        elif choice == '7':\n",
        "          break  \n",
        "        else:\n",
        "          print('Invalid Choice!!')\n",
        "          continue\n",
        "        if bucket_1 == 4:\n",
        "          print('\\nCongratulations!!! You Won The Game!!')\n",
        "          break \n",
        "  elif choice == '2':\n",
        "    print('Goodbye!!')\n",
        "    break"
      ],
      "metadata": {
        "id": "Vg_KKZwJArig"
      },
      "execution_count": null,
      "outputs": []
    },
    {
      "cell_type": "code",
      "source": [],
      "metadata": {
        "id": "6kNm5_jqoehj"
      },
      "execution_count": null,
      "outputs": []
    }
  ]
}